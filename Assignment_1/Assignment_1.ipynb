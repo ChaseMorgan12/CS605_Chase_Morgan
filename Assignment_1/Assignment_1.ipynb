{
 "cells": [
  {
   "cell_type": "code",
   "execution_count": 16,
   "id": "1f2680d7-b1f0-4c64-9be2-bf18b3b81f03",
   "metadata": {},
   "outputs": [
    {
     "name": "stdout",
     "output_type": "stream",
     "text": [
      "Welcome to the Simple Calculator!\n",
      "\n"
     ]
    },
    {
     "name": "stdin",
     "output_type": "stream",
     "text": [
      "Enter the first number:  6.32424244\n",
      "Enter the second number:  94598.8244\n"
     ]
    },
    {
     "name": "stdout",
     "output_type": "stream",
     "text": [
      "\n",
      "Select an operation:\n",
      "1. Addition\n",
      "2. Subtraction\n",
      "3. Multiplication\n",
      "4. Division\n"
     ]
    },
    {
     "name": "stdin",
     "output_type": "stream",
     "text": [
      "\n",
      "Enter the operation number:  4\n"
     ]
    },
    {
     "name": "stdout",
     "output_type": "stream",
     "text": [
      "\n",
      "Result: 6.32424244 / 94598.8244 = 6.685328787235965e-05\n"
     ]
    },
    {
     "name": "stdin",
     "output_type": "stream",
     "text": [
      "\n",
      "Do you want to perform another calculation? (yes/no):  yes\n"
     ]
    },
    {
     "name": "stdout",
     "output_type": "stream",
     "text": [
      "\n",
      "\n"
     ]
    },
    {
     "name": "stdin",
     "output_type": "stream",
     "text": [
      "Enter the first number:  -3556.3456\n",
      "Enter the second number:  542658.5948798\n"
     ]
    },
    {
     "name": "stdout",
     "output_type": "stream",
     "text": [
      "\n",
      "Select an operation:\n",
      "1. Addition\n",
      "2. Subtraction\n",
      "3. Multiplication\n",
      "4. Division\n"
     ]
    },
    {
     "name": "stdin",
     "output_type": "stream",
     "text": [
      "\n",
      "Enter the operation number:  3\n"
     ]
    },
    {
     "name": "stdout",
     "output_type": "stream",
     "text": [
      "\n",
      "Result: -3556.3456 * 542658.5948798 = -1929881506.2029593\n"
     ]
    },
    {
     "name": "stdin",
     "output_type": "stream",
     "text": [
      "\n",
      "Do you want to perform another calculation? (yes/no):  tes\n"
     ]
    },
    {
     "name": "stdout",
     "output_type": "stream",
     "text": [
      "\n",
      "Goodbye!\n"
     ]
    }
   ],
   "source": [
    "#Adds two float values.\n",
    "def Add(x: float, y: float) -> float:\n",
    "    return x + y\n",
    "\n",
    "#Multiplies two float values.\n",
    "def Multiply(x: float, y: float) -> float:\n",
    "    return x * y\n",
    "\n",
    "#Calculates the result and returns a tuple of the result and the calculation sign.\n",
    "def Calculate(calculationType: int, x: float, y: float) -> (float, str):\n",
    "    result = 0\n",
    "    sign = \"\"\n",
    "    \n",
    "    if calculationType == 1:\n",
    "        result = Add(x, y)\n",
    "        sign = \"+\"\n",
    "    elif calculationType == 2:\n",
    "        result = Add(x, -y)\n",
    "        sign = \"-\"\n",
    "    elif calculationType == 3:\n",
    "        result = Multiply(x, y)\n",
    "        sign = \"*\"\n",
    "    elif calculationType == 4:\n",
    "        result = Multiply(x, 1 / y)\n",
    "        sign = \"/\"\n",
    "        \n",
    "    return (result, sign)\n",
    "\n",
    "print(\"Welcome to the Simple Calculator!\\n\")\n",
    "\n",
    "while True:\n",
    "    firstNum = 0\n",
    "    secondNum = 0\n",
    "    \n",
    "    chosenCalculation = -1\n",
    "    calculationTuple = (0, \"+\")\n",
    "\n",
    "    #Get first value.\n",
    "    while True:\n",
    "        firstNum = input(\"Enter the first number: \")\n",
    "        try:\n",
    "            firstNum = float(firstNum)\n",
    "        except(ValueError, TypeError):\n",
    "            #If we are here the cast wasn't sucessful and we should try the input again.\n",
    "            continue\n",
    "        break\n",
    "\n",
    "    #Get second value.\n",
    "    while True:\n",
    "        secondNum = input(\"Enter the second number: \")\n",
    "        try:\n",
    "            secondNum = float(secondNum)\n",
    "        except(ValueError, TypeError):\n",
    "            #If we are here the cast wasn't sucessful and we should try the input again.\n",
    "            continue\n",
    "        break\n",
    "    \n",
    "    print(\"\\nSelect an operation:\")\n",
    "    print(\"1. Addition\")\n",
    "    print(\"2. Subtraction\")\n",
    "    print(\"3. Multiplication\")\n",
    "    print(\"4. Division\")\n",
    "\n",
    "    #Make sure chosen operation is valid.\n",
    "    while chosenCalculation < 1 or chosenCalculation > 4:\n",
    "        chosenCalculation = input(\"\\nEnter the operation number: \")\n",
    "        try:\n",
    "            chosenCalculation = int(chosenCalculation)\n",
    "        except(ValueError, TypeError):\n",
    "            chosenCalculation = int(-1)\n",
    "            continue\n",
    "            \n",
    "    calculationTuple = Calculate(int(chosenCalculation), float(firstNum), float(secondNum))\n",
    "    \n",
    "    print(\"\\nResult: \" + str(firstNum) + \" \" + calculationTuple[1] + \" \" + str(secondNum) + \" = \" + str(calculationTuple[0]))\n",
    "\n",
    "    newAttempt = input(\"\\nDo you want to perform another calculation? (yes/no): \")\n",
    "\n",
    "    #If the user doesn't want a new calculation, break out of this while loop.\n",
    "    if newAttempt != \"yes\":\n",
    "        break\n",
    "\n",
    "    print(\"\\n\")\n",
    "\n",
    "print(\"\\nGoodbye!\")\n"
   ]
  },
  {
   "cell_type": "code",
   "execution_count": null,
   "id": "03850f59-c718-4261-bbdf-6991a0c72017",
   "metadata": {},
   "outputs": [],
   "source": []
  }
 ],
 "metadata": {
  "kernelspec": {
   "display_name": "Python 3 (ipykernel)",
   "language": "python",
   "name": "python3"
  },
  "language_info": {
   "codemirror_mode": {
    "name": "ipython",
    "version": 3
   },
   "file_extension": ".py",
   "mimetype": "text/x-python",
   "name": "python",
   "nbconvert_exporter": "python",
   "pygments_lexer": "ipython3",
   "version": "3.13.5"
  }
 },
 "nbformat": 4,
 "nbformat_minor": 5
}
