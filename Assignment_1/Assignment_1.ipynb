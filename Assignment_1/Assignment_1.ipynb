{
 "cells": [
  {
   "cell_type": "code",
   "execution_count": null,
   "id": "1f2680d7-b1f0-4c64-9be2-bf18b3b81f03",
   "metadata": {},
   "outputs": [
    {
     "name": "stdout",
     "output_type": "stream",
     "text": [
      "Welcome to the Simple Calculator!\n",
      "\n"
     ]
    },
    {
     "name": "stdin",
     "output_type": "stream",
     "text": [
      "Enter the first number:  3\n",
      "Enter the second number:  6\n"
     ]
    },
    {
     "name": "stdout",
     "output_type": "stream",
     "text": [
      "\n",
      "Select an operation:\n",
      "1. Addition\n",
      "2. Subtraction\n",
      "3. Multiplication\n",
      "4. Division\n"
     ]
    },
    {
     "name": "stdin",
     "output_type": "stream",
     "text": [
      "\n",
      "Enter the operation number:  j\n",
      "\n",
      "Enter the operation number:  j\n",
      "\n",
      "Enter the operation number:  j\n",
      "\n",
      "Enter the operation number:  j\n",
      "\n",
      "Enter the operation number:  j\n",
      "\n",
      "Enter the operation number:  j\n",
      "\n",
      "Enter the operation number:  j\n",
      "\n",
      "Enter the operation number:  0\n",
      "\n",
      "Enter the operation number:  0\n",
      "\n",
      "Enter the operation number:  3\n"
     ]
    },
    {
     "name": "stdout",
     "output_type": "stream",
     "text": [
      "\n",
      "Result: 3 * 6 = 18.0\n"
     ]
    }
   ],
   "source": [
    "def Add(x, y) -> float:\n",
    "    return float(x) + float(y)\n",
    "\n",
    "def Multiply(x, y) -> float:\n",
    "    return float(x) * float(y)\n",
    "\n",
    "def Calculate(calculationType) -> (float, str):\n",
    "    result = 0\n",
    "    sign = \"\"\n",
    "    \n",
    "    if calculationType == 1:\n",
    "        result = Add(float(firstNum), float(secondNum))\n",
    "        sign = \"+\"\n",
    "    elif calculationType == 2:\n",
    "        result = Add(float(firstNum), -float(secondNum))\n",
    "        sign = \"-\"\n",
    "    elif calculationType == 3:\n",
    "        result = Multiply(float(firstNum), float(secondNum))\n",
    "        sign = \"*\"\n",
    "    elif calculationType == 4:\n",
    "        result = Multiply(float(firstNum), 1 / float(secondNum))\n",
    "        sign = \"/\"\n",
    "        \n",
    "    return (result, sign)\n",
    "\n",
    "firstNum = \" \"\n",
    "secondNum = \" \"\n",
    "\n",
    "print(\"Welcome to the Simple Calculator!\\n\")\n",
    "\n",
    "while True:\n",
    "    firstNum = \" \"\n",
    "    secondNum = \" \"\n",
    "    \n",
    "    chosenCalculation = -1\n",
    "    calculationTuple = (0, \"+\")\n",
    "    \n",
    "    while not firstNum.isdigit():\n",
    "        firstNum = input(\"Enter the first number: \")\n",
    "        \n",
    "    while not secondNum.isdigit():\n",
    "        secondNum = input(\"Enter the second number: \")\n",
    "    \n",
    "    print(\"\\nSelect an operation:\")\n",
    "    print(\"1. Addition\")\n",
    "    print(\"2. Subtraction\")\n",
    "    print(\"3. Multiplication\")\n",
    "    print(\"4. Division\")\n",
    "\n",
    "    while range(int(chosenCalculation), 1, 4):\n",
    "        chosenCalculation = input(\"\\nEnter the operation number: \")\n",
    "        if not str(chosenCalculation).isdigit():\n",
    "            chosenCalculation = int(-1)\n",
    "        \n",
    "    calculationTuple = Calculate(int(chosenCalculation))\n",
    "    \n",
    "    print(\"\\nResult: \" + str(firstNum) + \" \" + calculationTuple[1] + \" \" + str(secondNum) + \" = \" + str(calculationTuple[0]))\n",
    "\n",
    "    newAttempt = input(\"\\nDo you want to perform another calculation? (yes/no): \")\n",
    "    \n",
    "    if newAttempt != \"yes\":\n",
    "        break\n",
    "\n",
    "    print(\"\\n\")\n",
    "\n",
    "print(\"\\nGoodbye!\")\n"
   ]
  },
  {
   "cell_type": "code",
   "execution_count": null,
   "id": "03850f59-c718-4261-bbdf-6991a0c72017",
   "metadata": {},
   "outputs": [],
   "source": []
  }
 ],
 "metadata": {
  "kernelspec": {
   "display_name": "Python 3 (ipykernel)",
   "language": "python",
   "name": "python3"
  },
  "language_info": {
   "codemirror_mode": {
    "name": "ipython",
    "version": 3
   },
   "file_extension": ".py",
   "mimetype": "text/x-python",
   "name": "python",
   "nbconvert_exporter": "python",
   "pygments_lexer": "ipython3",
   "version": "3.13.5"
  }
 },
 "nbformat": 4,
 "nbformat_minor": 5
}
